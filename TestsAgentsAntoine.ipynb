{
 "cells": [
  {
   "cell_type": "code",
   "execution_count": 2,
   "metadata": {},
   "outputs": [],
   "source": [
    "import numpy as np\n",
    "import pandas as pd\n",
    "import os\n",
    "from matplotlib import pyplot as plt\n",
    "from model.track_collection import TrackCollection\n",
    "from utils.collection_splitter import splitter"
   ]
  },
  {
   "cell_type": "code",
   "execution_count": 5,
   "metadata": {},
   "outputs": [],
   "source": [
    "# loading track collection\n",
    "track_collection = TrackCollection()\n",
    "track_collection.load(os.path.join('data', 'track_collection_y.json'))\n",
    "user_collections = splitter(track_collection, 10, 0.3)\n",
    "\n",
    "user_dfs = []\n",
    "for user_collection in user_collections:\n",
    "    user_dfs.append(user_collection.to_dataframe())\n",
    "\n",
    "df_track_collection = track_collection.to_dataframe()\n",
    "matrix = df_track_collection[['id']]"
   ]
  },
  {
   "cell_type": "code",
   "execution_count": 21,
   "metadata": {},
   "outputs": [
    {
     "data": {
      "text/plain": [
       "3130"
      ]
     },
     "execution_count": 21,
     "metadata": {},
     "output_type": "execute_result"
    }
   ],
   "source": [
    "\n",
    "i = 2\n",
    "ndf = user_dfs[i][['id', 'rating_score']]\n",
    "user_matrix = matrix.merge(ndf, on='id', how='left').fillna(0)\n",
    "\n",
    "user_matrix = user_matrix[['rating_score']]\n",
    "len(user_matrix)\n"
   ]
  },
  {
   "cell_type": "code",
   "execution_count": null,
   "metadata": {},
   "outputs": [],
   "source": []
  }
 ],
 "metadata": {
  "kernelspec": {
   "display_name": "Python 3",
   "language": "python",
   "name": "python3"
  },
  "language_info": {
   "codemirror_mode": {
    "name": "ipython",
    "version": 3
   },
   "file_extension": ".py",
   "mimetype": "text/x-python",
   "name": "python",
   "nbconvert_exporter": "python",
   "pygments_lexer": "ipython3",
   "version": "3.5.2"
  }
 },
 "nbformat": 4,
 "nbformat_minor": 2
}
